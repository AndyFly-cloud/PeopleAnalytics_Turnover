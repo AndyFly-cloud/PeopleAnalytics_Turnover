{
  "nbformat": 4,
  "nbformat_minor": 0,
  "metadata": {
    "colab": {
      "provenance": [],
      "authorship_tag": "ABX9TyMgalUCGvX2PvMC1M12jT9G",
      "include_colab_link": true
    },
    "kernelspec": {
      "name": "python3",
      "display_name": "Python 3"
    },
    "language_info": {
      "name": "python"
    }
  },
  "cells": [
    {
      "cell_type": "markdown",
      "metadata": {
        "id": "view-in-github",
        "colab_type": "text"
      },
      "source": [
        "<a href=\"https://colab.research.google.com/github/AndyFly-cloud/PeopleAnalytics_Turnover/blob/master/convert_Word_JSON.ipynb\" target=\"_parent\"><img src=\"https://colab.research.google.com/assets/colab-badge.svg\" alt=\"Open In Colab\"/></a>"
      ]
    },
    {
      "cell_type": "code",
      "execution_count": 1,
      "metadata": {
        "colab": {
          "base_uri": "https://localhost:8080/"
        },
        "id": "ekT5_JZIJRku",
        "outputId": "898d632e-8e7f-4136-d0f0-908914c5f25f"
      },
      "outputs": [
        {
          "output_type": "stream",
          "name": "stdout",
          "text": [
            "Collecting aspose-cells\n",
            "  Downloading aspose-cells-24.1.0.tar.gz (14.2 MB)\n",
            "\u001b[2K     \u001b[90m━━━━━━━━━━━━━━━━━━━━━━━━━━━━━━━━━━━━━━━━\u001b[0m \u001b[32m14.2/14.2 MB\u001b[0m \u001b[31m40.4 MB/s\u001b[0m eta \u001b[36m0:00:00\u001b[0m\n",
            "\u001b[?25h  Preparing metadata (setup.py) ... \u001b[?25l\u001b[?25hdone\n",
            "Collecting JPype1>=1.2.1 (from aspose-cells)\n",
            "  Downloading JPype1-1.5.0-cp310-cp310-manylinux_2_17_x86_64.manylinux2014_x86_64.whl (488 kB)\n",
            "\u001b[2K     \u001b[90m━━━━━━━━━━━━━━━━━━━━━━━━━━━━━━━━━━━━━━━━\u001b[0m \u001b[32m488.6/488.6 kB\u001b[0m \u001b[31m16.8 MB/s\u001b[0m eta \u001b[36m0:00:00\u001b[0m\n",
            "\u001b[?25hRequirement already satisfied: packaging in /usr/local/lib/python3.10/dist-packages (from JPype1>=1.2.1->aspose-cells) (23.2)\n",
            "Building wheels for collected packages: aspose-cells\n",
            "  Building wheel for aspose-cells (setup.py) ... \u001b[?25l\u001b[?25hdone\n",
            "  Created wheel for aspose-cells: filename=aspose_cells-24.1.0-py3-none-any.whl size=14196875 sha256=b9c22554266d6e3b06d3eadf9e9ef43b070a7ff0618190faebaa861c5ca8b973\n",
            "  Stored in directory: /root/.cache/pip/wheels/20/38/05/e6684be33ff7b59948d65306dbab509b6b93adc30c4ef11617\n",
            "Successfully built aspose-cells\n",
            "Installing collected packages: JPype1, aspose-cells\n",
            "Successfully installed JPype1-1.5.0 aspose-cells-24.1.0\n"
          ]
        }
      ],
      "source": [
        "pip install aspose-cells"
      ]
    },
    {
      "cell_type": "code",
      "source": [
        "pip install aspose-words"
      ],
      "metadata": {
        "colab": {
          "base_uri": "https://localhost:8080/"
        },
        "id": "D5eG1afUJYxJ",
        "outputId": "c901ff95-4f90-442f-eadc-3ca9a525eacf"
      },
      "execution_count": 2,
      "outputs": [
        {
          "output_type": "stream",
          "name": "stdout",
          "text": [
            "Collecting aspose-words\n",
            "  Downloading aspose_words-24.1.0-py3-none-manylinux1_x86_64.whl (79.2 MB)\n",
            "\u001b[2K     \u001b[90m━━━━━━━━━━━━━━━━━━━━━━━━━━━━━━━━━━━━━━━━\u001b[0m \u001b[32m79.2/79.2 MB\u001b[0m \u001b[31m10.4 MB/s\u001b[0m eta \u001b[36m0:00:00\u001b[0m\n",
            "\u001b[?25hInstalling collected packages: aspose-words\n",
            "Successfully installed aspose-words-24.1.0\n"
          ]
        }
      ]
    },
    {
      "cell_type": "code",
      "source": [
        "doc = aw.Dokument"
      ],
      "metadata": {
        "id": "kDrnLOJ2JmzE"
      },
      "execution_count": null,
      "outputs": []
    }
  ]
}